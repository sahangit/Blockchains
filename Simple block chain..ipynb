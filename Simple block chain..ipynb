{
 "cells": [
  {
   "cell_type": "markdown",
   "id": "c072e638",
   "metadata": {},
   "source": [
    "## Introductions\n",
    "\n",
    "In this project I will use what I understand about blockchains to create a blockchain and improve it step by step."
   ]
  },
  {
   "cell_type": "markdown",
   "id": "b5502688",
   "metadata": {},
   "source": [
    "### Attempt 1\n",
    "\n",
    "Block chain provides a hash to transaction and for the next transaction it will use the transaction detail as well as the previous transaction. I will simply the builtin hash() function. The transaction will be a simple integer input.\n",
    "\n"
   ]
  },
  {
   "cell_type": "code",
   "execution_count": 28,
   "id": "e201b275",
   "metadata": {},
   "outputs": [
    {
     "name": "stdout",
     "output_type": "stream",
     "text": [
      "43\n"
     ]
    }
   ],
   "source": [
    "transaction = int(input())\n"
   ]
  },
  {
   "cell_type": "code",
   "execution_count": 29,
   "id": "946b5683",
   "metadata": {},
   "outputs": [],
   "source": [
    "try:\n",
    "    output = transaction*2 + 1000 + output\n",
    "\n",
    "except:\n",
    "    output = transaction*2 + 1000"
   ]
  },
  {
   "cell_type": "code",
   "execution_count": 30,
   "id": "9adb3a79",
   "metadata": {},
   "outputs": [
    {
     "data": {
      "text/plain": [
       "3088"
      ]
     },
     "execution_count": 30,
     "metadata": {},
     "output_type": "execute_result"
    }
   ],
   "source": [
    "output"
   ]
  },
  {
   "cell_type": "code",
   "execution_count": null,
   "id": "a4dc98b2",
   "metadata": {},
   "outputs": [],
   "source": []
  }
 ],
 "metadata": {
  "kernelspec": {
   "display_name": "Python 3",
   "language": "python",
   "name": "python3"
  },
  "language_info": {
   "codemirror_mode": {
    "name": "ipython",
    "version": 3
   },
   "file_extension": ".py",
   "mimetype": "text/x-python",
   "name": "python",
   "nbconvert_exporter": "python",
   "pygments_lexer": "ipython3",
   "version": "3.8.8"
  }
 },
 "nbformat": 4,
 "nbformat_minor": 5
}
